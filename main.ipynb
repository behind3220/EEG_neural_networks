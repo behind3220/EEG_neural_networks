{
 "cells": [
  {
   "cell_type": "code",
   "execution_count": null,
   "id": "0dYFxQOADjp-",
   "metadata": {
    "id": "0dYFxQOADjp-"
   },
   "outputs": [],
   "source": [
    "subject_num = 'all'\n",
    "subjects=[0, 1, 2, 3, 4, 5, 6, 7, 8]"
   ]
  },
  {
   "cell_type": "markdown",
   "id": "-TWZEnHhO0FF",
   "metadata": {
    "id": "-TWZEnHhO0FF"
   },
   "source": [
    "# Module loading"
   ]
  },
  {
   "cell_type": "code",
   "execution_count": null,
   "id": "481ff608",
   "metadata": {
    "id": "481ff608"
   },
   "outputs": [],
   "source": [
    "from models import *\n",
    "from utils import *\n",
    "import numpy as np\n",
    "import pandas as pd\n",
    "import keras\n",
    "import matplotlib.pyplot as plt\n",
    "from keras.utils import to_categorical\n",
    "import tensorflow as tf\n",
    "from tensorflow import keras\n",
    "from keras.models import Sequential, Model\n",
    "from keras.layers import Dense, Activation, Flatten, Dropout, ReLU\n",
    "from keras.layers import Conv2D, BatchNormalization, MaxPooling2D, Reshape\n",
    "from keras.layers import LSTM, Embedding, LeakyReLU, Conv2DTranspose\n",
    "from keras.layers import InputLayer, GRU, Input\n",
    "from keras.layers import Lambda, LeakyReLU\n",
    "from keras.utils import to_categorical, plot_model\n",
    "from keras import backend as K\n",
    "from keras.losses import mse, binary_crossentropy\n",
    "from keras import metrics\n",
    "# from keras.optimizers import Adam, SGD\n",
    "from tensorflow.keras.optimizers.legacy import Adam\n",
    "import os"
   ]
  },
  {
   "cell_type": "markdown",
   "id": "PXYGHyeyO8tO",
   "metadata": {
    "id": "PXYGHyeyO8tO"
   },
   "source": [
    "# Data Loading and Preprocessing"
   ]
  },
  {
   "cell_type": "markdown",
   "id": "accc9dd6",
   "metadata": {},
   "source": [
    "## Data Path setting"
   ]
  },
  {
   "cell_type": "code",
   "execution_count": null,
   "id": "ZcFN-b8k_zjI",
   "metadata": {
    "colab": {
     "base_uri": "https://localhost:8080/"
    },
    "id": "ZcFN-b8k_zjI",
    "outputId": "87d5d97d-b576-4758-9d7c-63bb3f3d5e16",
    "scrolled": true
   },
   "outputs": [],
   "source": [
    "## using google colab version\n",
    "# from google.colab import drive\n",
    "# drive.mount('/content/drive')\n",
    "# import sys\n",
    "# sys.path.append('/content/drive/MyDrive/Colab Notebooks/')\n",
    "# %cd '/content/drive/MyDrive/Colab Notebooks/C247/Final project/'"
   ]
  },
  {
   "cell_type": "code",
   "execution_count": null,
   "id": "3fb1b9e9",
   "metadata": {
    "colab": {
     "base_uri": "https://localhost:8080/"
    },
    "id": "3fb1b9e9",
    "outputId": "2aa38411-4c2a-4615-b1e1-854491ed2a2c",
    "scrolled": true
   },
   "outputs": [],
   "source": [
    "## using local compiler\n",
    "pwd = !pwd\n",
    "data_path = str(pwd[0]) + '/data/'\n",
    "print(data_path)"
   ]
  },
  {
   "cell_type": "code",
   "execution_count": null,
   "id": "7ef5254c",
   "metadata": {
    "colab": {
     "base_uri": "https://localhost:8080/"
    },
    "id": "7ef5254c",
    "outputId": "09c184e8-7837-4294-8b5c-0b3812a6464c"
   },
   "outputs": [],
   "source": [
    "X_train_valid, y_train_valid, X_test, y_test = load_data(data_path, subjects=subjects)\n",
    "# check data shape\n",
    "print('X_train_valid:', X_train_valid.shape)\n",
    "print('y_train_valid:', y_train_valid.shape)\n",
    "print('X_test:', X_test.shape)\n",
    "print('y_test:', y_test.shape)"
   ]
  },
  {
   "cell_type": "markdown",
   "id": "9I3X029o5DEb",
   "metadata": {
    "id": "9I3X029o5DEb"
   },
   "source": [
    "## Question 1\n",
    "\n",
    "Prepare the test data in subject 1."
   ]
  },
  {
   "cell_type": "code",
   "execution_count": null,
   "id": "k6xMwoCE7JtH",
   "metadata": {
    "colab": {
     "base_uri": "https://localhost:8080/"
    },
    "id": "k6xMwoCE7JtH",
    "outputId": "c1f447c6-aaaa-402a-fdd9-9e598c827d74"
   },
   "outputs": [],
   "source": [
    "person_test = np.load(data_path + \"person_test.npy\")\n",
    "X_test_s1 = X_test[np.where(person_test == 0)[0], :, :]\n",
    "y_test_s1 = y_test[np.where(person_test == 0)[0]]\n",
    "print('X_test_s1:', X_test_s1.shape)\n",
    "print('y_test_s1:', y_test_s1.shape)"
   ]
  },
  {
   "cell_type": "code",
   "execution_count": null,
   "id": "47045105",
   "metadata": {
    "colab": {
     "base_uri": "https://localhost:8080/"
    },
    "id": "47045105",
    "outputId": "89d9bc6b-3ec3-4990-b65d-f84a8764eaae"
   },
   "outputs": [],
   "source": [
    "## Random splitting and reshaping the data\n",
    "# First generating the training and validation indices using random splitting\n",
    "\n",
    "ind_valid = np.random.choice(2115, 375, replace=False)\n",
    "ind_train = np.array(list(set(range(2115)).difference(set(ind_valid))))\n",
    "\n",
    "# Creating the training and validation sets using the generated indices\n",
    "(X_train, X_valid) = X_train_valid[ind_train], X_train_valid[ind_valid] \n",
    "(y_train, y_valid) = y_train_valid[ind_train], y_train_valid[ind_valid]\n",
    "\n",
    "\n",
    "## Preprocessing the dataset\n",
    "x_train, y_train = data_prep(X_train,y_train,2,2,True)\n",
    "x_valid, y_valid = data_prep(X_valid,y_valid,2,2,True)\n",
    "X_test_prep, y_test_prep = data_prep(X_test,y_test,2,2,True)\n",
    "\n",
    "\n",
    "print('Shape of testing set:',X_test_prep.shape)\n",
    "print('Shape of testing labels:',y_test_prep.shape)\n",
    "\n",
    "print('Shape of training set:',x_train.shape)\n",
    "print('Shape of validation set:',x_valid.shape)\n",
    "print('Shape of training labels:',y_train.shape)\n",
    "print('Shape of validation labels:',y_valid.shape)\n",
    "\n",
    "\n",
    "\n",
    "# Converting the labels to categorical variables for multiclass classification\n",
    "y_train = to_categorical(y_train, 4)\n",
    "y_valid = to_categorical(y_valid, 4)\n",
    "y_test = to_categorical(y_test_prep, 4)\n",
    "print('Shape of training labels after categorical conversion:',y_train.shape)\n",
    "print('Shape of validation labels after categorical conversion:',y_valid.shape)\n",
    "print('Shape of test labels after categorical conversion:',y_test.shape)\n",
    "\n",
    "# Adding width of the segment to be 1\n",
    "x_train = x_train.reshape(x_train.shape[0], x_train.shape[1], x_train.shape[2], 1)\n",
    "x_valid = x_valid.reshape(x_valid.shape[0], x_valid.shape[1], x_valid.shape[2], 1)\n",
    "x_test = X_test_prep.reshape(X_test_prep.shape[0], X_test_prep.shape[1], X_test_prep.shape[2], 1)\n",
    "print('Shape of training set after adding width info:',x_train.shape)\n",
    "print('Shape of validation set after adding width info:',x_valid.shape)\n",
    "print('Shape of test set after adding width info:',x_test.shape)\n",
    "\n",
    "\n",
    "# Reshaping the training and validation dataset\n",
    "x_train = np.swapaxes(x_train, 1,3)\n",
    "x_train = np.swapaxes(x_train, 1,2)\n",
    "x_valid = np.swapaxes(x_valid, 1,3)\n",
    "x_valid = np.swapaxes(x_valid, 1,2)\n",
    "x_test = np.swapaxes(x_test, 1,3)\n",
    "x_test = np.swapaxes(x_test, 1,2)\n",
    "print('Shape of training set after dimension reshaping:',x_train.shape)\n",
    "print('Shape of validation set after dimension reshaping:',x_valid.shape)\n",
    "print('Shape of test set after dimension reshaping:',x_test.shape)"
   ]
  },
  {
   "cell_type": "code",
   "execution_count": null,
   "id": "fHHZj65A7feA",
   "metadata": {
    "id": "fHHZj65A7feA"
   },
   "outputs": [],
   "source": [
    "X_test_prep_s1, y_test_prep_s1 = data_prep(X_test_s1, y_test_s1, 2,2,True)\n",
    "y_test_s1 = to_categorical(y_test_prep_s1, 4)\n",
    "x_test_s1 = X_test_prep_s1.reshape(X_test_prep_s1.shape[0], X_test_prep_s1.shape[1], X_test_prep_s1.shape[2], 1)\n",
    "x_test_s1 = np.swapaxes(x_test_s1, 1,3)\n",
    "x_test_s1 = np.swapaxes(x_test_s1, 1,2)"
   ]
  },
  {
   "cell_type": "code",
   "execution_count": null,
   "id": "Pq-iVAUF-54H",
   "metadata": {
    "colab": {
     "base_uri": "https://localhost:8080/"
    },
    "id": "Pq-iVAUF-54H",
    "outputId": "822f763f-e6ba-45b9-ac17-deac975214ff"
   },
   "outputs": [],
   "source": [
    "print('x_test_s1:', x_test_s1.shape)\n",
    "print('y_test_s1:', y_test_s1.shape)"
   ]
  },
  {
   "cell_type": "markdown",
   "id": "TMzZ7hOPPUye",
   "metadata": {
    "id": "TMzZ7hOPPUye"
   },
   "source": [
    "# Model Training"
   ]
  },
  {
   "cell_type": "code",
   "execution_count": null,
   "id": "fd986acf",
   "metadata": {
    "id": "fd986acf"
   },
   "outputs": [],
   "source": [
    "learning_rate = 1e-3\n",
    "epochs = 100\n",
    "batch_size = 64\n",
    "# optimizer = keras.optimizers.Adam(learning_rate=learning_rate)\n",
    "optimizer = keras.optimizers.legacy.Adam(learning_rate=learning_rate)"
   ]
  },
  {
   "cell_type": "code",
   "execution_count": null,
   "id": "-_rMRv6nSLVx",
   "metadata": {
    "id": "-_rMRv6nSLVx"
   },
   "outputs": [],
   "source": [
    "def print_model_results(model, model_name, model_results, subject=subject_num):\n",
    "  # Plotting accuracy trajectory\n",
    "  plt.plot(model_results.history['accuracy'])\n",
    "  plt.plot(model_results.history['val_accuracy'])\n",
    "  plt.title(str(model_name) + ' model accuracy trajectory')\n",
    "  plt.ylabel('accuracy')\n",
    "  plt.xlabel('epoch')\n",
    "  plt.legend(['train', 'val'], loc='best')\n",
    "  plt.savefig(fname=str(model_name) + '_acc_' + str(subject), format='png')\n",
    "  plt.show()\n",
    "\n",
    "  # Plotting loss trajectory\n",
    "  plt.plot(model_results.history['loss'],'-')\n",
    "  plt.plot(model_results.history['val_loss'],'-')\n",
    "  plt.title(str(model_name) + ' model loss trajectory')\n",
    "  plt.ylabel('loss')\n",
    "  plt.xlabel('epoch')\n",
    "  plt.legend(['train', 'val'], loc='best')\n",
    "  plt.savefig(fname=str(model_name) + '_loss_' + str(subject), format='png')\n",
    "  plt.show()\n",
    "\n",
    "  # Testing the model\n",
    "  model_score = model.evaluate(x_test, y_test, verbose=0)\n",
    "  print('Test accuracy of the ' + str(model_name) + ' model:', model_score[1])\n",
    "  "
   ]
  },
  {
   "cell_type": "markdown",
   "id": "fDlgKsXLPZ8Y",
   "metadata": {
    "id": "fDlgKsXLPZ8Y"
   },
   "source": [
    "## Convolutional Neural Networks (CNN)"
   ]
  },
  {
   "cell_type": "code",
   "execution_count": null,
   "id": "R7Uxscf1Z8_x",
   "metadata": {
    "id": "R7Uxscf1Z8_x"
   },
   "outputs": [],
   "source": [
    "model_cnn = CNN()\n",
    "model_cnn.compile(loss='categorical_crossentropy',\n",
    "                 optimizer=optimizer,\n",
    "                 metrics=['accuracy'])"
   ]
  },
  {
   "cell_type": "code",
   "execution_count": null,
   "id": "_UY1iA4pZ60N",
   "metadata": {
    "colab": {
     "base_uri": "https://localhost:8080/"
    },
    "id": "_UY1iA4pZ60N",
    "outputId": "6fa1efad-4375-4d96-a7b0-480faf432241"
   },
   "outputs": [],
   "source": [
    "# Training and validating the model\n",
    "CNN_results = model_cnn.fit(x_train,\n",
    "                        y_train,\n",
    "                        batch_size=batch_size,\n",
    "                        epochs=epochs,\n",
    "                        validation_data=(x_valid, y_valid), verbose=True)"
   ]
  },
  {
   "cell_type": "code",
   "execution_count": null,
   "id": "4et--CQKVJr5",
   "metadata": {
    "colab": {
     "base_uri": "https://localhost:8080/",
     "height": 590
    },
    "id": "4et--CQKVJr5",
    "outputId": "c3e1bfd3-088d-4617-b42f-fcaddfe4907d"
   },
   "outputs": [],
   "source": [
    "print_model_results(model_cnn, 'CNN', CNN_results)"
   ]
  },
  {
   "cell_type": "code",
   "execution_count": null,
   "id": "VBmztVcnLPim",
   "metadata": {
    "colab": {
     "base_uri": "https://localhost:8080/"
    },
    "id": "VBmztVcnLPim",
    "outputId": "20f96828-7a84-4cf5-b1f9-4ecc36129422"
   },
   "outputs": [],
   "source": [
    "print(model_cnn.summary())\n",
    "print(model_cnn.cnn_layers.summary(), model_cnn.fc.summary())"
   ]
  },
  {
   "cell_type": "code",
   "execution_count": null,
   "id": "YsXYaVm3fuxd",
   "metadata": {
    "colab": {
     "base_uri": "https://localhost:8080/",
     "height": 1000
    },
    "id": "YsXYaVm3fuxd",
    "outputId": "c49d9985-44bd-4c7d-a074-b49c455ff392"
   },
   "outputs": [],
   "source": [
    "plot_model(model_cnn.cnn_layers, to_file='CNN_layers.png', show_shapes=True)"
   ]
  },
  {
   "cell_type": "code",
   "execution_count": null,
   "id": "09uDYzIigYoe",
   "metadata": {
    "colab": {
     "base_uri": "https://localhost:8080/",
     "height": 312
    },
    "id": "09uDYzIigYoe",
    "outputId": "19e5f89a-52d9-4f55-f9cf-cd5eff8fb763"
   },
   "outputs": [],
   "source": [
    "plot_model(model_cnn.fc, to_file='CNN_fc.png', show_shapes=True)"
   ]
  },
  {
   "cell_type": "markdown",
   "id": "N9MkyL_q99r5",
   "metadata": {
    "id": "N9MkyL_q99r5"
   },
   "source": [
    "### Question 1\n",
    "\n",
    "Test the CNN only on subject 1's test data."
   ]
  },
  {
   "cell_type": "code",
   "execution_count": null,
   "id": "0PWRx_HI_gTR",
   "metadata": {
    "colab": {
     "base_uri": "https://localhost:8080/"
    },
    "id": "0PWRx_HI_gTR",
    "outputId": "9b485210-a8e4-4694-f7da-e42104d6a670"
   },
   "outputs": [],
   "source": [
    "print('x_test_s1:', x_test_s1.shape)\n",
    "print('y_test_s1:', y_test_s1.shape)\n",
    "print('x_test:', x_test.shape)\n",
    "print('y_test:', y_test.shape)"
   ]
  },
  {
   "cell_type": "code",
   "execution_count": null,
   "id": "0C_A4_ZH9z6-",
   "metadata": {
    "colab": {
     "base_uri": "https://localhost:8080/"
    },
    "id": "0C_A4_ZH9z6-",
    "outputId": "467d72a0-a7ff-4898-bd1d-b504a8833c4d"
   },
   "outputs": [],
   "source": [
    "# Testing the model\n",
    "s1_score = model_cnn.evaluate(x_test_s1, y_test_s1, verbose=0)\n",
    "print('Test accuracy of the CNN model on subject 1\\'s data:', s1_score[1])"
   ]
  },
  {
   "cell_type": "markdown",
   "id": "e_H8yw_OPjkT",
   "metadata": {
    "id": "e_H8yw_OPjkT"
   },
   "source": [
    "## Recurrent Neural Networks (LSTM)"
   ]
  },
  {
   "cell_type": "code",
   "execution_count": null,
   "id": "IzjElgKRPmaP",
   "metadata": {
    "colab": {
     "base_uri": "https://localhost:8080/"
    },
    "id": "IzjElgKRPmaP",
    "outputId": "12e9d0bc-25ec-498f-90fd-acf87a3d4e88"
   },
   "outputs": [],
   "source": [
    "model_lstm = RNN_LSTM()\n",
    "model_lstm.compile(loss='categorical_crossentropy',\n",
    "                 optimizer=optimizer,\n",
    "                 metrics=['accuracy'])"
   ]
  },
  {
   "cell_type": "code",
   "execution_count": null,
   "id": "CTGJ0ZEdRzzf",
   "metadata": {
    "colab": {
     "base_uri": "https://localhost:8080/"
    },
    "id": "CTGJ0ZEdRzzf",
    "outputId": "003871fa-38c8-4140-a1c0-713cd14289b1"
   },
   "outputs": [],
   "source": [
    "# Training and validating the model\n",
    "LSTM_results = model_lstm.fit(x_train,\n",
    "                         y_train,\n",
    "                         batch_size=batch_size,\n",
    "                         epochs=epochs,\n",
    "                         validation_data=(x_valid, y_valid), verbose=True)"
   ]
  },
  {
   "cell_type": "code",
   "execution_count": null,
   "id": "l62VlxwyVeWS",
   "metadata": {
    "colab": {
     "base_uri": "https://localhost:8080/",
     "height": 590
    },
    "id": "l62VlxwyVeWS",
    "outputId": "c648010e-0e4a-4619-f004-9772d1241b62"
   },
   "outputs": [],
   "source": [
    "print_model_results(model_lstm, 'LSTM', LSTM_results)"
   ]
  },
  {
   "cell_type": "code",
   "execution_count": null,
   "id": "fsgK8lmWFQ4r",
   "metadata": {
    "colab": {
     "base_uri": "https://localhost:8080/"
    },
    "id": "fsgK8lmWFQ4r",
    "outputId": "2604443e-b0d0-4078-e158-570aca0c1bff"
   },
   "outputs": [],
   "source": [
    "print(model_lstm.summary())"
   ]
  },
  {
   "cell_type": "markdown",
   "id": "SmTBAyHeBYew",
   "metadata": {
    "id": "SmTBAyHeBYew"
   },
   "source": [
    "### Question 1\n",
    "\n",
    "Test the LSTM only on subject 1's test data."
   ]
  },
  {
   "cell_type": "code",
   "execution_count": null,
   "id": "aZoQ80ChBYex",
   "metadata": {
    "colab": {
     "base_uri": "https://localhost:8080/"
    },
    "id": "aZoQ80ChBYex",
    "outputId": "22563d14-51a7-4417-ed20-f33bd70adef4"
   },
   "outputs": [],
   "source": [
    "# Testing the model\n",
    "s1_score = model_lstm.evaluate(x_test_s1, y_test_s1, verbose=0)\n",
    "print('Test accuracy of the LSTM model on subject 1\\'s data:', s1_score[1])"
   ]
  },
  {
   "cell_type": "markdown",
   "id": "Tk76_OmDPmsn",
   "metadata": {
    "id": "Tk76_OmDPmsn"
   },
   "source": [
    "## Recurrent Neural Networks (GRU)"
   ]
  },
  {
   "cell_type": "code",
   "execution_count": null,
   "id": "rmgqAyWngZ58",
   "metadata": {
    "colab": {
     "base_uri": "https://localhost:8080/"
    },
    "id": "rmgqAyWngZ58",
    "outputId": "520c14a2-9497-4ba0-90d5-dcb003291bbd"
   },
   "outputs": [],
   "source": [
    "model_gru = RNN_GRU()\n",
    "model_gru.compile(loss='categorical_crossentropy',\n",
    "                 optimizer=optimizer,\n",
    "                 metrics=['accuracy'])"
   ]
  },
  {
   "cell_type": "code",
   "execution_count": null,
   "id": "A3gYaWVKVl5N",
   "metadata": {
    "colab": {
     "base_uri": "https://localhost:8080/"
    },
    "id": "A3gYaWVKVl5N",
    "outputId": "a596260c-ab23-4354-98b0-0f0f8189bc7e"
   },
   "outputs": [],
   "source": [
    "# Training and validating the model\n",
    "GRU_results = model_gru.fit(x_train,\n",
    "                        y_train,\n",
    "                        batch_size=batch_size,\n",
    "                        epochs=epochs,\n",
    "                        validation_data=(x_valid, y_valid), verbose=True)"
   ]
  },
  {
   "cell_type": "code",
   "execution_count": null,
   "id": "WaJajASTVn6I",
   "metadata": {
    "colab": {
     "base_uri": "https://localhost:8080/",
     "height": 590
    },
    "id": "WaJajASTVn6I",
    "outputId": "64af0bee-abeb-4577-8486-c19e3f83936e"
   },
   "outputs": [],
   "source": [
    "print_model_results(model_gru, 'GRU', GRU_results)"
   ]
  },
  {
   "cell_type": "code",
   "execution_count": null,
   "id": "ytlLOs9SBlCf",
   "metadata": {
    "colab": {
     "base_uri": "https://localhost:8080/"
    },
    "id": "ytlLOs9SBlCf",
    "outputId": "6b60f995-8b46-4f7e-ea79-a544ccb9c894"
   },
   "outputs": [],
   "source": [
    "print(model_gru.summary())"
   ]
  },
  {
   "cell_type": "markdown",
   "id": "rNLoh_Z7BlCf",
   "metadata": {
    "id": "rNLoh_Z7BlCf"
   },
   "source": [
    "### Question 1\n",
    "\n",
    "Test the GRU only on subject 1's test data."
   ]
  },
  {
   "cell_type": "code",
   "execution_count": null,
   "id": "4TeO6QAoBlCg",
   "metadata": {
    "colab": {
     "base_uri": "https://localhost:8080/"
    },
    "id": "4TeO6QAoBlCg",
    "outputId": "08be9882-24af-46be-d138-756e3dfaa5d5"
   },
   "outputs": [],
   "source": [
    "# Testing the model\n",
    "s1_score = model_gru.evaluate(x_test_s1, y_test_s1, verbose=0)\n",
    "print('Test accuracy of the GRU model on subject 1\\'s data:', s1_score[1])"
   ]
  },
  {
   "cell_type": "markdown",
   "id": "JUgalVQuPp5X",
   "metadata": {
    "id": "JUgalVQuPp5X"
   },
   "source": [
    "## CNN - LSTM"
   ]
  },
  {
   "cell_type": "code",
   "execution_count": null,
   "id": "EqwnVwgaPqPq",
   "metadata": {
    "colab": {
     "base_uri": "https://localhost:8080/"
    },
    "id": "EqwnVwgaPqPq",
    "outputId": "5398d3ba-352a-4578-dd88-a27ba2c6e09f"
   },
   "outputs": [],
   "source": [
    "model_crnn = CNN_LSTM()\n",
    "model_crnn.compile(loss='categorical_crossentropy',\n",
    "                 optimizer=optimizer,\n",
    "                 metrics=['accuracy'])"
   ]
  },
  {
   "cell_type": "code",
   "execution_count": null,
   "id": "M_JOEztsVxSR",
   "metadata": {
    "colab": {
     "base_uri": "https://localhost:8080/"
    },
    "id": "M_JOEztsVxSR",
    "outputId": "7061f2cd-8293-4bbd-ee73-7aabd8169fc6"
   },
   "outputs": [],
   "source": [
    "# Training and validating the model\n",
    "CNN_LSTM_results = model_crnn.fit(x_train,\n",
    "                             y_train,\n",
    "                             batch_size=batch_size,\n",
    "                             epochs=epochs,\n",
    "                             validation_data=(x_valid, y_valid), verbose=True)"
   ]
  },
  {
   "cell_type": "code",
   "execution_count": null,
   "id": "8ZXxw_GoVxh6",
   "metadata": {
    "colab": {
     "base_uri": "https://localhost:8080/",
     "height": 590
    },
    "id": "8ZXxw_GoVxh6",
    "outputId": "7874a524-4a5d-4aaf-c9fa-e8a8bda679ac"
   },
   "outputs": [],
   "source": [
    "print_model_results(model_crnn, 'CNN_LSTM', CNN_LSTM_results)"
   ]
  },
  {
   "cell_type": "code",
   "execution_count": null,
   "id": "FeyYZ7nsFc2C",
   "metadata": {
    "colab": {
     "base_uri": "https://localhost:8080/"
    },
    "id": "FeyYZ7nsFc2C",
    "outputId": "be790233-e1ad-4cc9-c65b-9678b266a371"
   },
   "outputs": [],
   "source": [
    "print(model_crnn.crnn_layers.summary())"
   ]
  },
  {
   "cell_type": "code",
   "execution_count": null,
   "id": "0jVJewqG0B4A",
   "metadata": {
    "colab": {
     "base_uri": "https://localhost:8080/",
     "height": 1000
    },
    "id": "0jVJewqG0B4A",
    "outputId": "42c9b8fe-e269-42a7-81ea-eff0472df644"
   },
   "outputs": [],
   "source": [
    "plot_model(model_crnn.crnn_layers, to_file='CRNN_LSTM_layers.png', show_shapes=True)"
   ]
  },
  {
   "cell_type": "markdown",
   "id": "FkG5xE6tCLoF",
   "metadata": {
    "id": "FkG5xE6tCLoF"
   },
   "source": [
    "### Question 1\n",
    "\n",
    "Test the CNN-LSTM only on subject 1's test data."
   ]
  },
  {
   "cell_type": "code",
   "execution_count": null,
   "id": "7UiVrVMqCLoF",
   "metadata": {
    "colab": {
     "base_uri": "https://localhost:8080/"
    },
    "id": "7UiVrVMqCLoF",
    "outputId": "ab0119cc-56f2-4a75-8e00-2846bb34a8b9"
   },
   "outputs": [],
   "source": [
    "# Testing the model\n",
    "s1_score = model_lstm.evaluate(x_test_s1, y_test_s1, verbose=0)\n",
    "print('Test accuracy of the CNN-LSTM model on subject 1\\'s data:', s1_score[1])"
   ]
  },
  {
   "cell_type": "markdown",
   "id": "pEFnoa4tPuw0",
   "metadata": {
    "id": "pEFnoa4tPuw0"
   },
   "source": [
    "## CNN - GRU"
   ]
  },
  {
   "cell_type": "code",
   "execution_count": null,
   "id": "hvlGFPWPPuVg",
   "metadata": {
    "colab": {
     "base_uri": "https://localhost:8080/"
    },
    "id": "hvlGFPWPPuVg",
    "outputId": "d71b76cf-5fe8-43e7-aad7-12c6e58fb80e"
   },
   "outputs": [],
   "source": [
    "model_cgru = CNN_GRU()\n",
    "model_cgru.compile(loss='categorical_crossentropy',\n",
    "                 optimizer=optimizer,\n",
    "                 metrics=['accuracy'])"
   ]
  },
  {
   "cell_type": "code",
   "execution_count": null,
   "id": "d9sUvGsRZGHv",
   "metadata": {
    "id": "d9sUvGsRZGHv"
   },
   "outputs": [],
   "source": [
    "# epochs=100\n",
    "# I don't have sufficient time and GPU to show experiment with larger epochs again here. \n",
    "# Therefore, I set it equals to 30, which is quite small to reduce training time.\n",
    "# Based on the graph we found before, it should converge to a constant when epochs = 40.\n",
    "epochs=40"
   ]
  },
  {
   "cell_type": "code",
   "execution_count": null,
   "id": "CER-82FNWX66",
   "metadata": {
    "colab": {
     "base_uri": "https://localhost:8080/"
    },
    "id": "CER-82FNWX66",
    "outputId": "83266a79-5e51-4d55-929c-bb50c96ac01b"
   },
   "outputs": [],
   "source": [
    "# Training and validating the model\n",
    "CNN_GRU_results = model_cgru.fit(x_train,\n",
    "                            y_train,\n",
    "                            batch_size=batch_size,\n",
    "                            epochs=epochs,\n",
    "                            validation_data=(x_valid, y_valid), verbose=True)"
   ]
  },
  {
   "cell_type": "code",
   "execution_count": null,
   "id": "hcsaTZ7nWXuN",
   "metadata": {
    "colab": {
     "base_uri": "https://localhost:8080/",
     "height": 590
    },
    "id": "hcsaTZ7nWXuN",
    "outputId": "78708135-6e2b-4fa7-8c62-04d867482b26"
   },
   "outputs": [],
   "source": [
    "print_model_results(model_cgru, 'CNN_GRU', CNN_GRU_results)"
   ]
  },
  {
   "cell_type": "code",
   "execution_count": null,
   "id": "Mn_V0rEpwhfn",
   "metadata": {
    "colab": {
     "base_uri": "https://localhost:8080/"
    },
    "id": "Mn_V0rEpwhfn",
    "outputId": "46807395-e985-4fa0-ce65-3c04b66b5cf7"
   },
   "outputs": [],
   "source": [
    "print(model_cgru.cgnn_layers.summary())"
   ]
  },
  {
   "cell_type": "code",
   "execution_count": null,
   "id": "8llTeyDDwhfo",
   "metadata": {
    "colab": {
     "base_uri": "https://localhost:8080/",
     "height": 1000
    },
    "id": "8llTeyDDwhfo",
    "outputId": "e651de41-8b3a-4fa5-aba9-837368297d32"
   },
   "outputs": [],
   "source": [
    "plot_model(model_cgru.cgnn_layers, to_file='CRNN_GRU_layers.png', show_shapes=True)"
   ]
  },
  {
   "cell_type": "markdown",
   "id": "dYxpDM7d4vFV",
   "metadata": {
    "id": "dYxpDM7d4vFV"
   },
   "source": [
    "### Question 1\n",
    "\n",
    "Test the CNN-GRU only on subject 1's test data."
   ]
  },
  {
   "cell_type": "code",
   "execution_count": null,
   "id": "OQCsYcZi4vFW",
   "metadata": {
    "colab": {
     "base_uri": "https://localhost:8080/"
    },
    "id": "OQCsYcZi4vFW",
    "outputId": "21eeefd7-1e7a-446a-b4f2-b3ddb87b8ace"
   },
   "outputs": [],
   "source": [
    "# Testing the model\n",
    "s1_score = model_cgru.evaluate(x_test_s1, y_test_s1, verbose=0)\n",
    "print('Test accuracy of the CNN-LSTM model on subject 1\\'s data:', s1_score[1])"
   ]
  },
  {
   "cell_type": "markdown",
   "id": "x05JwXwmPxp-",
   "metadata": {
    "id": "x05JwXwmPxp-"
   },
   "source": [
    "## Convolutional Variational Autoencoder (CVAE)"
   ]
  },
  {
   "cell_type": "code",
   "execution_count": null,
   "id": "EKvMRXAgollZ",
   "metadata": {
    "id": "EKvMRXAgollZ"
   },
   "outputs": [],
   "source": [
    "X_train_valid, y_train_valid, X_test, y_test = load_data(data_path, subjects=subjects)\n",
    "trials, features, timebins = X_train_valid.shape\n",
    "input_shape =(features, timebins, 1)\n",
    "batch_size = 64 \n",
    "filters = 16\n",
    "latent_dim = 2 \n",
    "kernel_size = 8\n",
    "epochs = 25\n",
    "optimizer = Adam(lr=learning_rate)"
   ]
  },
  {
   "cell_type": "code",
   "execution_count": null,
   "id": "TrHz9sfAP0EP",
   "metadata": {
    "id": "TrHz9sfAP0EP"
   },
   "outputs": [],
   "source": [
    "def sampling(args): \n",
    "    # Q(z|X)\n",
    "    z_mean, z_log_var = args\n",
    "    batch = K.shape(z_mean)[0]\n",
    "    dim = K.int_shape(z_mean)[1]\n",
    "    epsilon = K.random_normal(shape=(batch, dim))\n",
    "    return z_mean + K.exp(0.5 * z_log_var) * epsilon"
   ]
  },
  {
   "cell_type": "code",
   "execution_count": null,
   "id": "yIwuc_qxP2UX",
   "metadata": {
    "id": "yIwuc_qxP2UX"
   },
   "outputs": [],
   "source": [
    "def plot_results(models,\n",
    "                 data, \n",
    "                 batch_size=128,\n",
    "                 model_name=\"CVAE\"):\n",
    "\n",
    "    encoder, decoder = models\n",
    "    x_test, y_test = data\n",
    "    print(x_test.shape)\n",
    "    print(y_test.shape)\n",
    "    os.makedirs(model_name, exist_ok=True)\n",
    "\n",
    "    filename = os.path.join(model_name, \"CVAE.png\")\n",
    "    z_mean, _, _ = encoder.predict(x_test,\n",
    "                                   batch_size=batch_size)\n",
    "    plt.figure(figsize=(12, 10))\n",
    "    plt.scatter(z_mean[:, 0], z_mean[:, 1], c=y_test)\n",
    "    plt.colorbar()\n",
    "    plt.xlabel(\"z[0]\")\n",
    "    plt.ylabel(\"z[1]\")\n",
    "    plt.savefig(filename)\n",
    "    plt.show()\n",
    "\n",
    "    filename = os.path.join(model_name, \"digits_over_latent.png\")\n",
    "\n",
    "    z_sample = np.array([[22,1000]])\n",
    "    x_decoded = decoder.predict(z_sample)\n",
    "    print(x_decoded.shape)\n",
    "    fs = 250\n",
    "    increments = np.linspace(0,1000,1000)\n",
    "    \n",
    "    plt.figure()\n",
    "\n",
    "    for i in range(0, 22):\n",
    "      y = np.row_stack((x_decoded[:,i,:,:]))\n",
    "\n",
    "      #print(y)\n",
    "      plt.plot(increments, (y), '.')\n",
    "      plt.xlabel(\"Sample Index [n]\")\n",
    "      plt.ylabel(\"z[n]\")\n",
    "      plt.title(\"Single Trial, all EEG\")"
   ]
  },
  {
   "cell_type": "code",
   "execution_count": null,
   "id": "yebLdT6PqGjg",
   "metadata": {
    "colab": {
     "base_uri": "https://localhost:8080/"
    },
    "id": "yebLdT6PqGjg",
    "outputId": "151c5085-fed0-49c4-962f-fb4f310aa028"
   },
   "outputs": [],
   "source": [
    "# Reference:\n",
    "# https://learnopencv.com/variational-autoencoder-in-tensorflow/\n",
    "# https://www.tensorflow.org/tutorials/generative/cvae\n",
    "\n",
    "inputs = Input(shape=input_shape, name='encoder_input')\n",
    "# print(inputs)\n",
    "x = inputs\n",
    "filters *= 2\n",
    "\n",
    "#Temporal conv\n",
    "x = Conv2D(filters=filters,\n",
    "          kernel_size=(1, 20),\n",
    "          strides=(1,10),\n",
    "          )(x)\n",
    "\n",
    "x = LeakyReLU(alpha=0.3)(x)\n",
    "\n",
    "filters *= 2\n",
    "#Spatial Conv\n",
    "x = Conv2D(filters=filters,\n",
    "          kernel_size=(22, 1)\n",
    "          )(x)\n",
    "x = LeakyReLU(alpha=0.3)(x)\n",
    "\n",
    "#shape info needed to build decoder model\n",
    "shape = K.int_shape(x)\n",
    "\n",
    "#latent vector Q(z|X)\n",
    "x = Flatten()(x)\n",
    "x = Dense(16, activation='relu')(x)\n",
    "z_mean = Dense(latent_dim, name='z_mean')(x)\n",
    "z_log_var = Dense(latent_dim, name='z_log_var')(x)\n",
    "z_log_var = z_log_var + 1e-8 \n",
    "# print(\"zlog \", z_log_var)\n",
    "\n",
    "#reparameterization trick: instead of sampling from Q(z|X), sample epsilon = N(0,I)\n",
    "z = Lambda(sampling, output_shape=(latent_dim,), name='z')([z_mean, z_log_var])\n",
    "\n",
    "#compile encoder\n",
    "encoder = Model(inputs, [z_mean, z_log_var, z], name='encoder')\n",
    "encoder.summary()\n",
    "\n",
    "#decoder model\n",
    "latent_inputs = Input(shape=(latent_dim,), name='z_sampling')\n",
    "x = Dense(shape[1] * shape[2] * shape[3], activation='relu')(latent_inputs)\n",
    "x = Reshape((shape[1], shape[2], shape[3]))(x)\n",
    "\n",
    "#reverse: spatial conv\n",
    "x = Conv2DTranspose(filters=filters,\n",
    "              kernel_size=(22, 1),\n",
    "              activation='relu',\n",
    "              )(x)\n",
    "#x = BatchNormalization(epsilon=1e-5)(x)\n",
    "\n",
    "filters //= 2\n",
    "\n",
    "#reverse: temporal conv\n",
    "x = Conv2DTranspose(filters=filters,\n",
    "          kernel_size=(1, 20),\n",
    "          activation='relu',\n",
    "          strides=(1, 10))(x)\n",
    "\n",
    "filters //= 2\n",
    "\n",
    "outputs = Conv2DTranspose(filters=1,\n",
    "                          kernel_size=kernel_size,\n",
    "                          padding='same',\n",
    "                          name='decoder_output')(x)\n",
    "\n",
    "#compile decoder model\n",
    "decoder = Model(latent_inputs, outputs, name='decoder')\n",
    "decoder.summary()\n",
    "# plot_model(decoder, to_file='CVAE_decoder.png', show_shapes=True)\n",
    "\n",
    "#compile VAE model\n",
    "outputs = decoder(encoder(inputs)[2])\n",
    "CVAE = Model(inputs, outputs, name='CVAE')"
   ]
  },
  {
   "cell_type": "code",
   "execution_count": null,
   "id": "CuBLnVH0u0GN",
   "metadata": {
    "colab": {
     "base_uri": "https://localhost:8080/",
     "height": 1000
    },
    "id": "CuBLnVH0u0GN",
    "outputId": "46e3876b-db82-4775-e1bc-f5877125d0d5"
   },
   "outputs": [],
   "source": [
    "models = (encoder, decoder)\n",
    "data = (X_test, y_test)\n",
    "reconstruction_loss = mse(K.flatten(inputs), K.flatten(outputs))\n",
    "reconstruction_loss *= features * timebins\n",
    "kl_loss = 1 + z_log_var - K.square(z_mean) - K.exp(z_log_var)\n",
    "kl_loss = K.sum(kl_loss, axis=-1)\n",
    "kl_loss *= -0.5\n",
    "vae_loss = K.mean(reconstruction_loss + kl_loss)\n",
    "CVAE.add_loss(vae_loss)\n",
    "\n",
    "CVAE.compile(optimizer=optimizer, loss=None)\n",
    "\n",
    "# CVAE.summary()\n",
    "plot_model(CVAE, to_file='CVAE_structure.png', show_shapes=True)"
   ]
  },
  {
   "cell_type": "code",
   "execution_count": null,
   "id": "XvJnZiJgvTGt",
   "metadata": {
    "colab": {
     "base_uri": "https://localhost:8080/",
     "height": 1000
    },
    "id": "XvJnZiJgvTGt",
    "outputId": "63997a88-7be0-48cb-e371-5e39d6ae5ec5"
   },
   "outputs": [],
   "source": [
    "history = CVAE.fit(x = X_train_valid,\n",
    "        epochs=epochs,\n",
    "        batch_size=batch_size,\n",
    "        validation_data=(X_test, None))\n",
    "\n",
    "plot_results(models, data, batch_size=batch_size, model_name=\"CVAE\")"
   ]
  },
  {
   "cell_type": "code",
   "execution_count": null,
   "id": "kSB_ZLA0wUOW",
   "metadata": {
    "colab": {
     "base_uri": "https://localhost:8080/",
     "height": 159
    },
    "id": "kSB_ZLA0wUOW",
    "outputId": "4fc597f9-aeb8-4d46-9457-d0a86dbf911c"
   },
   "outputs": [],
   "source": [
    "reconstruct = CVAE.predict(X_test)\n",
    "figsize = 50\n",
    " \n",
    "fig = plt.figure(figsize=(figsize, 10))\n",
    "fig.subplots_adjust(hspace=0.5, wspace=0.5)\n",
    "\n",
    "for i in range(6):\n",
    "    ax = fig.add_subplot(3, 3, i+1)\n",
    "    ax.axis('off')\n",
    "    pred = reconstruct[i, :, :, :] * 64\n",
    "    pred = np.array(pred)  \n",
    "    pred = pred.astype(np.uint8)\n",
    "    ax.imshow(pred)"
   ]
  },
  {
   "cell_type": "markdown",
   "id": "OUE1IgtNDXle",
   "metadata": {
    "id": "OUE1IgtNDXle"
   },
   "source": [
    "## Evaluate the classification accuracy as a function of time (Question 3)\n",
    " \n"
   ]
  },
  {
   "cell_type": "code",
   "execution_count": null,
   "id": "jImrT_tJGMtS",
   "metadata": {
    "id": "jImrT_tJGMtS"
   },
   "outputs": [],
   "source": [
    "def data_prep_time(X, y, sub_sample, average, noise, timespot):\n",
    "    \"\"\"\n",
    "    from the discussion 9 coding notebook\n",
    "    \"\"\"\n",
    "    \n",
    "    total_X = None\n",
    "    total_y = None\n",
    "    \n",
    "    # Trimming the data (sample,22,1000) -> (sample,22,500)\n",
    "    if timespot < 250:\n",
    "      X = X[:, :, timespot : timespot + 500]\n",
    "    elif timespot >= 250 and timespot <= 750:\n",
    "      X = X[:, :, timespot - 250 : timespot + 250]\n",
    "    elif timespot > 750:\n",
    "      X = X[:, :, timespot - 500 : timespot]\n",
    "\n",
    "    # X = X[:, :, 0:timespot]\n",
    "    # print('Shape of X after trimming:',X.shape)\n",
    "    \n",
    "    # Maxpooling the data (sample,22,1000) -> (sample,22,500/sub_sample)\n",
    "    X_max = np.max(X.reshape(X.shape[0], X.shape[1], -1, sub_sample), axis=3)\n",
    "    \n",
    "    total_X = X_max\n",
    "    total_y = y\n",
    "    # print('Shape of X after maxpooling:',total_X.shape)\n",
    "    \n",
    "    # Averaging + noise \n",
    "    X_average = np.mean(X.reshape(X.shape[0], X.shape[1], -1, average),axis=3)\n",
    "    X_average = X_average + np.random.normal(0.0, 0.5, X_average.shape)\n",
    "    \n",
    "    total_X = np.vstack((total_X, X_average))\n",
    "    total_y = np.hstack((total_y, y))\n",
    "    # print('Shape of X after averaging+noise and concatenating:',total_X.shape)\n",
    "    \n",
    "    # Subsampling\n",
    "    \n",
    "    for i in range(sub_sample):\n",
    "        \n",
    "        X_subsample = X[:, :, i::sub_sample] + \\\n",
    "                            (np.random.normal(0.0, 0.5, X[:, :,i::sub_sample].shape) if noise else 0.0)\n",
    "            \n",
    "        total_X = np.vstack((total_X, X_subsample))\n",
    "        total_y = np.hstack((total_y, y))\n",
    "\n",
    "    return total_X, total_y"
   ]
  },
  {
   "cell_type": "code",
   "execution_count": null,
   "id": "N7-02lklGpKD",
   "metadata": {
    "id": "N7-02lklGpKD"
   },
   "outputs": [],
   "source": [
    "def helper(X_train_valid, y_train_valid, X_test, y_test, timespot):\n",
    "  ind_valid = np.random.choice(2115, 375, replace=False)\n",
    "  ind_train = np.array(list(set(range(2115)).difference(set(ind_valid))))\n",
    "\n",
    "  # Creating the training and validation sets using the generated indices\n",
    "  (X_train, X_valid) = X_train_valid[ind_train], X_train_valid[ind_valid] \n",
    "  (y_train, y_valid) = y_train_valid[ind_train], y_train_valid[ind_valid]\n",
    "\n",
    "\n",
    "  ## Preprocessing the dataset\n",
    "  x_train, y_train = data_prep_time(X_train,y_train,2,2,True, timespot)\n",
    "  x_valid, y_valid = data_prep_time(X_valid,y_valid,2,2,True, timespot)\n",
    "  X_test_prep, y_test_prep = data_prep_time(X_test,y_test,2,2,True, timespot)\n",
    "\n",
    "  # Converting the labels to categorical variables for multiclass classification\n",
    "  y_train = to_categorical(y_train, 4)\n",
    "  y_valid = to_categorical(y_valid, 4)\n",
    "  y_test = to_categorical(y_test_prep, 4)\n",
    "\n",
    "  # Adding width of the segment to be 1\n",
    "  x_train = x_train.reshape(x_train.shape[0], x_train.shape[1], x_train.shape[2], 1)\n",
    "  x_valid = x_valid.reshape(x_valid.shape[0], x_valid.shape[1], x_valid.shape[2], 1)\n",
    "  x_test = X_test_prep.reshape(X_test_prep.shape[0], X_test_prep.shape[1], X_test_prep.shape[2], 1)\n",
    "\n",
    "\n",
    "  # Reshaping the training and validation dataset\n",
    "  x_train = np.swapaxes(x_train, 1,3)\n",
    "  x_train = np.swapaxes(x_train, 1,2)\n",
    "  x_valid = np.swapaxes(x_valid, 1,3)\n",
    "  x_valid = np.swapaxes(x_valid, 1,2)\n",
    "  x_test = np.swapaxes(x_test, 1,3)\n",
    "  x_test = np.swapaxes(x_test, 1,2)\n",
    "  return x_train, y_train, x_valid, y_valid, x_test, y_test "
   ]
  },
  {
   "cell_type": "code",
   "execution_count": null,
   "id": "gzJXne9_GZLr",
   "metadata": {
    "colab": {
     "base_uri": "https://localhost:8080/"
    },
    "id": "gzJXne9_GZLr",
    "outputId": "5fcead23-909b-4154-a19b-8c79b5e8acb5"
   },
   "outputs": [],
   "source": [
    "X_train_valid, y_train_valid, X_test, Y_test = load_data(data_path, subjects=subjects)\n",
    "# check data shape\n",
    "print('X_train_valid:', X_train_valid.shape)\n",
    "print('y_train_valid:', y_train_valid.shape)\n",
    "print('X_test:', X_test.shape)\n",
    "print('y_test:', Y_test.shape)"
   ]
  },
  {
   "cell_type": "code",
   "execution_count": null,
   "id": "7mFrf9yvq3P3",
   "metadata": {
    "colab": {
     "base_uri": "https://localhost:8080/"
    },
    "id": "7mFrf9yvq3P3",
    "outputId": "cdbec308-14a0-474d-925f-bb92a4c8ea49"
   },
   "outputs": [],
   "source": [
    "test_accs = []\n",
    "for t in range(100, 1001, 200):\n",
    "  print('current', t, '..')\n",
    "  x_train, y_train, x_valid, y_valid, x_test, y_test = helper(X_train_valid, y_train_valid, X_test, Y_test, t)\n",
    "  m = CNN()\n",
    "  m.compile(loss='categorical_crossentropy',\n",
    "                  optimizer=optimizer,\n",
    "                  metrics=['accuracy'])\n",
    "  mr = m.fit(x_train,\n",
    "              y_train,\n",
    "              batch_size=batch_size,\n",
    "              epochs=30,\n",
    "              validation_data=(x_valid, y_valid), verbose=False)\n",
    "  model_score = m.evaluate(x_test, y_test, verbose=0)\n",
    "  test_accs.append(model_score)"
   ]
  },
  {
   "cell_type": "code",
   "execution_count": null,
   "id": "toaVuEw91_rv",
   "metadata": {
    "colab": {
     "base_uri": "https://localhost:8080/",
     "height": 281
    },
    "id": "toaVuEw91_rv",
    "outputId": "39dd1f5a-88d5-4341-981e-14ad30e9b073"
   },
   "outputs": [],
   "source": [
    "# plot\n",
    "plt.plot(range(100, 1001, 200), test_accs, label='test accuracies')\n",
    "plt.legend(loc='best')\n",
    "plt.xlabel('')\n",
    "plt.title(\"Classification Accuracies over Time Period (CNN)\")\n",
    "plt.savefig('q3', format='png')\n",
    "plt.show()"
   ]
  },
  {
   "cell_type": "code",
   "execution_count": null,
   "id": "fss3_cY24WzJ",
   "metadata": {
    "colab": {
     "base_uri": "https://localhost:8080/"
    },
    "id": "fss3_cY24WzJ",
    "outputId": "cdbec308-14a0-474d-925f-bb92a4c8ea49"
   },
   "outputs": [],
   "source": [
    "test_accs = []\n",
    "for t in range(100, 1001, 200):\n",
    "  print('current', t, '..')\n",
    "  x_train, y_train, x_valid, y_valid, x_test, y_test = helper(X_train_valid, y_train_valid, X_test, Y_test, t)\n",
    "  m = CNN()\n",
    "  m.compile(loss='categorical_crossentropy',\n",
    "                  optimizer=optimizer,\n",
    "                  metrics=['accuracy'])\n",
    "  mr = m.fit(x_train,\n",
    "              y_train,\n",
    "              batch_size=batch_size,\n",
    "              epochs=30,\n",
    "              validation_data=(x_valid, y_valid), verbose=False)\n",
    "  model_score = m.evaluate(x_test, y_test, verbose=0)\n",
    "  test_accs.append(model_score)"
   ]
  },
  {
   "cell_type": "code",
   "execution_count": null,
   "id": "cfvjq1TDJS1U",
   "metadata": {
    "colab": {
     "base_uri": "https://localhost:8080/",
     "height": 281
    },
    "id": "cfvjq1TDJS1U",
    "outputId": "d5b98612-ec3d-477d-86e1-f43afbaa9531"
   },
   "outputs": [],
   "source": [
    "llist = []\n",
    "alist = []\n",
    "for loss, acc in test_accs:\n",
    "  llist.append(loss)\n",
    "  alist.append(acc)\n",
    "\n",
    "# plot\n",
    "plt.plot(range(100, 1001, 200), llist, label='loss')\n",
    "plt.plot(range(100, 1001, 200), alist, label='test accuracy')\n",
    "plt.legend(loc='best')\n",
    "plt.xlabel('')\n",
    "plt.title(\"Classification Accuracies over Time Period (CNN)\")\n",
    "plt.savefig('q3', format='png')\n",
    "plt.show()"
   ]
  }
 ],
 "metadata": {
  "accelerator": "GPU",
  "colab": {
   "provenance": [],
   "toc_visible": true
  },
  "gpuClass": "standard",
  "kernelspec": {
   "display_name": "beamznt",
   "language": "python",
   "name": "beamznt"
  },
  "language_info": {
   "codemirror_mode": {
    "name": "ipython",
    "version": 3
   },
   "file_extension": ".py",
   "mimetype": "text/x-python",
   "name": "python",
   "nbconvert_exporter": "python",
   "pygments_lexer": "ipython3",
   "version": "3.9.17"
  }
 },
 "nbformat": 4,
 "nbformat_minor": 5
}
